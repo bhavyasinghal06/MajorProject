{
 "cells": [
  {
   "cell_type": "code",
   "execution_count": 2,
   "id": "b4d3d410",
   "metadata": {},
   "outputs": [],
   "source": [
    "from tensorflow.keras.layers import Input, Lambda, Dense, Flatten,Dropout\n",
    "from tensorflow.keras.models import Model\n",
    "from tensorflow.keras.callbacks import ReduceLROnPlateau\n",
    "from tensorflow.keras.applications.vgg19 import VGG19\n",
    "from tensorflow.keras.applications.vgg19 import preprocess_input\n",
    "from tensorflow.keras.preprocessing import image\n",
    "from tensorflow.keras.optimizers import RMSprop\n",
    "from tensorflow.keras.preprocessing.image import ImageDataGenerator\n",
    "from tensorflow.keras.models import Sequential\n",
    "import numpy as np\n",
    "import pandas as pd\n",
    "import PIL\n",
    "import os\n",
    "import matplotlib.pyplot as plt\n",
    "import tensorflow as tf\n"
   ]
  },
  {
   "cell_type": "code",
   "execution_count": 3,
   "id": "30a76626",
   "metadata": {},
   "outputs": [
    {
     "name": "stdout",
     "output_type": "stream",
     "text": [
      "Found 582 images belonging to 4 classes.\n",
      "Found 254 images belonging to 4 classes.\n"
     ]
    }
   ],
   "source": [
    "train_dataset = ImageDataGenerator(rescale = 1/255).flow_from_directory(\"SoilDataset/Train\",\n",
    "                                           target_size = (200, 200),\n",
    "                                           batch_size = 32,\n",
    "                                           class_mode = \"categorical\",\n",
    "                                           shuffle = True\n",
    "                                         )\n",
    "validation_dataset = ImageDataGenerator(rescale = 1/255).flow_from_directory(\"SoilDataset/Validation\",\n",
    "                                           target_size = (200, 200),\n",
    "                                           batch_size = 32,\n",
    "                                           class_mode = \"categorical\",\n",
    "                                           shuffle = True\n",
    "                                         )"
   ]
  },
  {
   "cell_type": "code",
   "execution_count": 4,
   "id": "696d784c",
   "metadata": {},
   "outputs": [
    {
     "data": {
      "text/plain": [
       "{'Alluvial_Soil': 0, 'Black_Soil': 1, 'Clay_Soil': 2, 'Red_Soil': 3}"
      ]
     },
     "execution_count": 4,
     "metadata": {},
     "output_type": "execute_result"
    }
   ],
   "source": [
    "train_dataset.class_indices"
   ]
  },
  {
   "cell_type": "code",
   "execution_count": 5,
   "id": "89116a88",
   "metadata": {},
   "outputs": [],
   "source": [
    "model = tf.keras.models.Sequential([\n",
    "            \n",
    "            # Note the input shape is the desired size of the image 200x200 with 3 bytes color\n",
    "            #This is the first convolution layer with 16 filters and size of convulation filter is 3 x 3\n",
    "            tf.keras.layers.Conv2D(16, (3,3), activation='relu', input_shape=(200, 200, 3)),\n",
    "            tf.keras.layers.MaxPooling2D(2, 2),\n",
    "        \n",
    "            # The second convolution \n",
    "            tf.keras.layers.Conv2D(32, (3,3), activation='relu'),\n",
    "            tf.keras.layers.MaxPooling2D(2,2),\n",
    "            \n",
    "            # The third convolution\n",
    "            tf.keras.layers.Conv2D(64, (7,7), activation='relu'),\n",
    "            tf.keras.layers.MaxPooling2D(2,2),\n",
    "                  \n",
    "    \n",
    "            #The fourth convolution\n",
    "            tf.keras.layers.Conv2D(128, (5,5), activation='relu'),\n",
    "            tf.keras.layers.MaxPooling2D(2,2),\n",
    "            \n",
    "            #The fifth convolution\n",
    "            tf.keras.layers.Conv2D(256, (3,3), activation='relu'),\n",
    "            tf.keras.layers.MaxPooling2D(2,2),\n",
    "        \n",
    "            # Flatten the results to feed into it\n",
    "            tf.keras.layers.Flatten(),\n",
    "            \n",
    "            tf.keras.layers.Dense(128, activation='relu'),\n",
    "            \n",
    "            # 512 neuron hidden layer\n",
    "            tf.keras.layers.Dense(512, activation='relu'),\n",
    "             \n",
    "    \n",
    "            tf.keras.layers.Dense(4, activation='softmax') ])\n",
    "\n",
    "model.compile(optimizer=\"adam\",loss=\"categorical_crossentropy\",metrics=[\"accuracy\"])"
   ]
  },
  {
   "cell_type": "code",
   "execution_count": 6,
   "id": "5e28f9ac",
   "metadata": {},
   "outputs": [],
   "source": [
    "history = model.fit(train_dataset,\n",
    "                    epochs=50,\n",
    "                    verbose=0,\n",
    "                    validation_data = validation_dataset,\n",
    "                    )"
   ]
  },
  {
   "cell_type": "code",
   "execution_count": 7,
   "id": "9065d934",
   "metadata": {},
   "outputs": [
    {
     "data": {
      "image/png": "[encoded data removed]",
      "text/plain": [
       "<Figure size 432x288 with 1 Axes>"
      ]
     },
     "metadata": {
      "needs_background": "light"
     },
     "output_type": "display_data"
    }
   ],
   "source": [
    "plt.plot(history.history['accuracy'])\n",
    "plt.plot(history.history['val_accuracy'])\n",
    "plt.title('model accuracy')\n",
    "plt.ylabel('accuracy')\n",
    "plt.xlabel('epoch')\n",
    "plt.legend(['train', 'test'], loc='upper left')\n",
    "plt.show()"
   ]
  },
  {
   "cell_type": "code",
   "execution_count": 8,
   "id": "d3f323ed",
   "metadata": {},
   "outputs": [],
   "source": [
    "model.save(\"Model_cnn.h5\")"
   ]
  }
 ],
 "metadata": {
  "interpreter": {
   "hash": "a402df30ddb0d8a6cbaa7bf54a5d0c323c222f20384140e8d767a652e04a26a6"
  },
  "kernelspec": {
   "display_name": "Python 3.9.7 ('base')",
   "language": "python",
   "name": "python3"
  },
  "language_info": {
   "codemirror_mode": {
    "name": "ipython",
    "version": 3
   },
   "file_extension": ".py",
   "mimetype": "text/x-python",
   "name": "python",
   "nbconvert_exporter": "python",
   "pygments_lexer": "ipython3",
   "version": "3.9.7"
  }
 },
 "nbformat": 4,
 "nbformat_minor": 5
}
